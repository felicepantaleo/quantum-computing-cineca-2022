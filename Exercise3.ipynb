{
 "cells": [
  {
   "cell_type": "code",
   "execution_count": null,
   "id": "80a7cfd9",
   "metadata": {},
   "outputs": [],
   "source": [
    "import numpy as np\n",
    "from pyqubo import Binary\n",
    "from pyqubo import Array\n",
    "import neal\n",
    "import networkx as nx\n",
    "import matplotlib.pyplot as plt\n",
    "import math \n",
    "import random\n",
    "from collections import Counter"
   ]
  },
  {
   "cell_type": "code",
   "execution_count": null,
   "id": "5be58b6c",
   "metadata": {},
   "outputs": [],
   "source": [
    "def dist(pos,i,j):\n",
    "    d = (pos[i][0]-pos[j][0])**2+(pos[i][1]-pos[j][1])**2\n",
    "    return math.sqrt(d)"
   ]
  },
  {
   "cell_type": "code",
   "execution_count": null,
   "id": "847a0e5f",
   "metadata": {},
   "outputs": [],
   "source": [
    "N=20\n",
    "\n",
    "GR=nx.Graph();\n",
    "for i in range(N):\n",
    "    GR.add_node(i)\n",
    "pos=nx.random_layout(GR)\n",
    "nx.draw(GR,pos=pos,with_labels = True)\n",
    "ax = plt.gca()\n",
    "R = []\n",
    "for i in range(N):\n",
    "    center = pos[i]\n",
    "    R.append(random.uniform(0.1,0.3))\n",
    "    c = plt.Circle(center, R[i])\n",
    "    ax.add_patch(c)\n",
    "    \n",
    "Area = np.zeros(N, dtype=float)    \n",
    "for i in range(N):\n",
    "    Area[i] = R[i]*R[i]*math.pi\n",
    "\n",
    "plt.axis('equal')\n",
    "plt.show()"
   ]
  },
  {
   "cell_type": "code",
   "execution_count": null,
   "id": "cf93fb1f",
   "metadata": {},
   "outputs": [],
   "source": [
    "Rho = np.zeros((N,N), dtype=float)\n",
    "for i in range(N):\n",
    "    for j in range(i+1,N):\n",
    "        appo = R[i]+R[j]-dist(pos,i,j)\n",
    "        if(appo > 0):\n",
    "            Rho[i][j] = appo\n",
    "            \n",
    "Noise = np.zeros((N,N), dtype=float)\n",
    "for i in range(N):\n",
    "    for j in range(i+1,N):\n",
    "        Noise[i][j] = Rho[i][j]*Rho[i][j]*math.pi"
   ]
  },
  {
   "cell_type": "code",
   "execution_count": null,
   "id": "6b26d340",
   "metadata": {},
   "outputs": [],
   "source": [
    "GRe=nx.Graph();\n",
    "for i in range(N):\n",
    "    GRe.add_node(i)\n",
    "for i in range(N):\n",
    "    for j in range(i+1,N):\n",
    "        if(Rho[i][j] > 0):\n",
    "            GRe.add_edge(i,j)\n",
    "nx.draw(GRe,pos=pos,with_labels = True)"
   ]
  },
  {
   "cell_type": "code",
   "execution_count": null,
   "id": "948c5f31",
   "metadata": {},
   "outputs": [],
   "source": [
    "q = Array.create('q', shape=N, vartype='BINARY')\n",
    "H = 0;\n",
    "\n",
    "A=np.zeros(N, dtype=float)\n",
    "B=np.zeros((N,N), dtype=float)\n",
    "\n",
    "alpha = 1\n",
    "\n",
    "F = 10\n",
    "beta = 0\n",
    "\n",
    "L= np.zeros(N)\n",
    "\n",
    "L[0]=1\n",
    "L[12]=1\n",
    "L[8]=1\n",
    "\n",
    "gamma = 1\n",
    "\n",
    "for i in range(N):\n",
    "    A[i]= REPLACE_ME\n",
    "    for j in range(N):\n",
    "        B[i][j]= REPLACE_ME\n",
    "\n",
    "\n",
    "for i in range(N):\n",
    "    H = H + A[i]*q[i];\n",
    "    for j in range(i+1,N):\n",
    "        H = H + B[i][j]*q[i]*q[j];\n",
    "\n",
    "model = H.compile()\n",
    "bqm = model.to_bqm()"
   ]
  },
  {
   "cell_type": "code",
   "execution_count": null,
   "id": "f3b94172",
   "metadata": {},
   "outputs": [],
   "source": [
    "sa = neal.SimulatedAnnealingSampler()\n",
    "sampleset = sa.sample(bqm, num_reads=10000)\n",
    "decoded_samples = model.decode_sampleset(sampleset)\n",
    "best_sample = min(decoded_samples, key=lambda x: x.energy)\n",
    "print(best_sample.sample);"
   ]
  },
  {
   "cell_type": "code",
   "execution_count": null,
   "id": "d93b56ba",
   "metadata": {},
   "outputs": [],
   "source": [
    "sols=[]\n",
    "for samp in decoded_samples:\n",
    "    res=[]\n",
    "    for i in range(N):\n",
    "        key='q['+str(i)+']';\n",
    "        res.append(samp.sample[key])\n",
    "    sols.append(res)\n",
    "sol=[]\n",
    "for i in range(N):\n",
    "    key='q['+str(i)+']';\n",
    "    sol.append(best_sample.sample[key])\n",
    "print(sol)"
   ]
  },
  {
   "cell_type": "code",
   "execution_count": null,
   "id": "5752a82e",
   "metadata": {},
   "outputs": [],
   "source": [
    "GSol =nx.Graph();\n",
    "pos_sol = []\n",
    "A_sol = []\n",
    "for i in range(N):\n",
    "    if(sol[i] > 0):\n",
    "        GSol.add_node(i)\n",
    "        pos_sol.append(pos[i])\n",
    "        A_sol.append(Area[i])\n",
    "nx.draw(GSol,pos=pos,with_labels = True)\n",
    "ax = plt.gca()\n",
    "for i in range(len(pos_sol)):\n",
    "    center = pos_sol[i]\n",
    "    c = plt.Circle(center, A_sol[i])\n",
    "    ax.add_patch(c)\n",
    "plt.axis('equal')\n",
    "plt.show()"
   ]
  },
  {
   "cell_type": "code",
   "execution_count": null,
   "id": "4d0e044e",
   "metadata": {},
   "outputs": [],
   "source": [
    "nx.draw(GR,pos=pos,with_labels = True)\n",
    "ax = plt.gca()\n",
    "for i in range(N):\n",
    "    center = pos[i]\n",
    "    c = plt.Circle(center, Area[i])\n",
    "    ax.add_patch(c)\n",
    "plt.axis('equal')\n",
    "plt.show()"
   ]
  },
  {
   "cell_type": "code",
   "execution_count": null,
   "id": "590dba66",
   "metadata": {},
   "outputs": [],
   "source": [
    "nx.draw(GSol,pos=pos,with_labels = True)\n",
    "ax = plt.gca()\n",
    "for i in range(len(pos_sol)):\n",
    "    center = pos_sol[i]\n",
    "    c = plt.Circle(center, A_sol[i])\n",
    "    ax.add_patch(c)\n",
    "plt.axis('equal')\n",
    "plt.show()"
   ]
  },
  {
   "cell_type": "code",
   "execution_count": null,
   "id": "d7bdc64f",
   "metadata": {},
   "outputs": [],
   "source": [
    "vals=[]\n",
    "Areas=[]\n",
    "Interf=[]\n",
    "for ssol in sols:\n",
    "    Hs = 0;\n",
    "    As = 0;\n",
    "    Is = 0;\n",
    "    for i in range(N):\n",
    "        Hs = Hs + A[i]*ssol[i];\n",
    "        As = As + Area[i]*ssol[i];\n",
    "        for j in range(i+1,N):\n",
    "            Hs = Hs + B[i][j]*ssol[i]*ssol[j];\n",
    "            Is = Is + Noise[i][j]*ssol[i]*ssol[j];\n",
    "        \n",
    "    vals.append(Hs)\n",
    "    Areas.append(As)\n",
    "    Interf.append(Is)\n",
    "    \n",
    "histogram = Counter(vals).most_common(3)\n",
    "print(histogram)\n",
    "histA = Counter(Areas).most_common(3)\n",
    "print(histA)\n",
    "histI = Counter(Interf).most_common(3)\n",
    "print(histI)\n",
    "\n",
    "Hs = 0;\n",
    "As = 0;\n",
    "Is = 0;\n",
    "\n",
    "for i in range(N):\n",
    "    Hs = Hs + A[i]*sol[i];\n",
    "    As = As + Area[i]*ssol[i];\n",
    "    for j in range(i+1,N):\n",
    "        Hs = Hs + B[i][j]*sol[i]*sol[j];\n",
    "        Is = Is + Noise[i][j]*sol[i]*sol[j];\n",
    "        \n",
    "print(Hs)\n",
    "print(As)\n",
    "print(Is)"
   ]
  },
  {
   "cell_type": "code",
   "execution_count": null,
   "id": "24845a9b",
   "metadata": {},
   "outputs": [],
   "source": []
  }
 ],
 "metadata": {
  "kernelspec": {
   "display_name": "Python 3 (ipykernel)",
   "language": "python",
   "name": "python3"
  },
  "language_info": {
   "codemirror_mode": {
    "name": "ipython",
    "version": 3
   },
   "file_extension": ".py",
   "mimetype": "text/x-python",
   "name": "python",
   "nbconvert_exporter": "python",
   "pygments_lexer": "ipython3",
   "version": "3.9.7"
  }
 },
 "nbformat": 4,
 "nbformat_minor": 5
}
