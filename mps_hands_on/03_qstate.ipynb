{
 "cells": [
  {
   "cell_type": "markdown",
   "id": "7d3b7b1a-60c2-44b1-89e5-2e749db68f12",
   "metadata": {},
   "source": [
    "# Quantum state\n",
    "\n",
    "We just saw how to build a quantum state simply by using the svd. \n",
    "Now we will understand how much we compressed the information!\n",
    "\n",
    "Try to find your own measure of how big is the compression. A possible idea is the amaount of RAM needed to store the state.\n",
    "\n",
    "Is it smaller or greater then the memory needed to store the statevector?\n",
    "\n",
    "You can use any statevector you can think of, starting by those in `Compression.ipynb`.\n",
    "\n",
    "\n",
    "## BONUS QUESTION\n",
    "<details> \n",
    "  <summary>What changes if you use this? </summary>\n",
    "   You can reshape into a matrix of shape (n, n) only if you want to regroup all the left-most legs into the left leg, and all the rightmost into the right.\n",
    "   <code>\n",
    "    from _dont_open import tSVD\n",
    "    # ...\n",
    "    # instead of tens_left, tens_right = mySVD(\n",
    "    # on tensor_state_from_statevector\n",
    "    tens_left, tens_right, _, _ = tSVD(\n",
    "   </code>\n",
    "</details>\n"
   ]
  },
  {
   "cell_type": "code",
   "execution_count": null,
   "id": "5c2e7f38-5584-4ec6-a491-08eaa713c600",
   "metadata": {},
   "outputs": [],
   "source": [
    "import numpy as np\n",
    "\n",
    "# Copy paste your SVD here if you manage to have it work for any leg disposition,\n",
    "# or use the available one\n",
    "use_mySVD = False\n",
    "\n",
    "if use_mySVD:\n",
    "    def mySVD():\n",
    "        return\n",
    "else:\n",
    "    from _dont_open import trueSVD as mySVD"
   ]
  },
  {
   "cell_type": "code",
   "execution_count": null,
   "id": "2061854f-b932-4b0f-b37c-672f1de0415f",
   "metadata": {},
   "outputs": [],
   "source": [
    "def tensor_state_from_statevector(statevector):\n",
    "    \"\"\"Initialize the state tensors by decomposing a statevector into tensors.\n",
    "        All the degrees of freedom must have the same local dimension\n",
    "\n",
    "    Parameters\n",
    "    ----------\n",
    "    statevector : ndarray of shape( 2^num_sites, )\n",
    "        Statevector describing the interested state for initializing the MPS\n",
    "\n",
    "\n",
    "    Returns\n",
    "    -------\n",
    "    tensor_list : array-like\n",
    "        list of tensors\n",
    "    \"\"\"\n",
    "    if not isinstance(statevector, np.ndarray):\n",
    "        raise TypeError('Statevector must be numpy array')\n",
    "        \n",
    "    num_sites = int( np.log2(len(statevector) ) )\n",
    "\n",
    "    state_tensor = statevector.reshape( [1] + [2]*num_sites + [1] )\n",
    "    \n",
    "    tensor_list = []\n",
    "    for ii in range(num_sites-1):\n",
    "        legs = list(range(len(state_tensor.shape)))\n",
    "        tens_left, tens_right = mySVD(state_tensor, legs[:2],\n",
    "                                                   legs[2:],\n",
    "                                                   contract_singvals='R')\n",
    "\n",
    "        tensor_list.append( tens_left )\n",
    "        state_tensor = tens_right\n",
    "    tensor_list.append( tens_right )\n",
    "\n",
    "    return tensor_list"
   ]
  },
  {
   "cell_type": "code",
   "execution_count": null,
   "id": "2457a046-559e-4744-b35d-5e9194af1cfd",
   "metadata": {},
   "outputs": [],
   "source": []
  }
 ],
 "metadata": {
  "kernelspec": {
   "display_name": "Qiskit Environment",
   "language": "python",
   "name": "qiskit"
  },
  "language_info": {
   "codemirror_mode": {
    "name": "ipython",
    "version": 3
   },
   "file_extension": ".py",
   "mimetype": "text/x-python",
   "name": "python",
   "nbconvert_exporter": "python",
   "pygments_lexer": "ipython3",
   "version": "3.9.7"
  }
 },
 "nbformat": 4,
 "nbformat_minor": 5
}
