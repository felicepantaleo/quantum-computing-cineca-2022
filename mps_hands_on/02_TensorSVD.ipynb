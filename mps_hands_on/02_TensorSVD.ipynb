{
 "cells": [
  {
   "cell_type": "markdown",
   "id": "21d340a2-4f30-4879-8e95-95ee86e83056",
   "metadata": {},
   "source": [
    "# Implement the SVD on a tensor\n",
    "\n",
    "We have discussed a lot all the operations available on tensors. They are important, but if you don't use them you don't really understand them. \n",
    "\n",
    "It is now your turn of implementing the SVD as in the figure below!\n",
    "Once you finish you can run the check_svd function, to see if you actually did it correctly!\n",
    "\n",
    "![image](images/svd.png)\n",
    "\n",
    "There are also some small tips, but use them ONLY if you need them. It is far better to discuss in the chat, even privately with the other partecipants.\n",
    "\n",
    "Useful functions:\n",
    "- `np.tensordot`: computes the tensor contraction of two tensors along given legs [docs](https://numpy.org/doc/stable/reference/generated/numpy.tensordot.html)\n",
    "- `np.linalg.svd`: compute the svd of a matrix [docs](https://numpy.org/doc/stable/reference/generated/numpy.linalg.svd.html?highlight=svd#numpy.linalg.svd)\n",
    "- `np.transpose`: transpose legs [docs](https://numpy.org/doc/stable/reference/generated/numpy.transpose.html?highlight=transpose#numpy.transpose)\n",
    "- `np.reshape`: reshape the tensors. Notice that it DOES NOT TRANSPOSE the legs. [docs](https://numpy.org/doc/stable/reference/generated/numpy.reshape.html)\n",
    "\n",
    "<details> \n",
    "  <summary>TIP: Passing from a 4-legs to a 2-legs </summary>\n",
    "   You can reshape into a matrix of shape (n, n) only if you want to regroup all the left-most legs into the left leg, and all the rightmost into the right.\n",
    "   <code>\n",
    "   #   |4                                                                      |4                         \n",
    "   # 1-o-3 --(regroup 1-3 and 2-4)-> first make them adjacent by transposing 1-o-2 --(reshape) 1,3 -o- 2,4\n",
    "   #   |2                                                                      |3                         \n",
    "   </code>\n",
    "</details>\n",
    "\n",
    "## BONUS QUESTION\n",
    "- Are you able to write the SVD for **any** disposition of the legs, such that they are an input of the function?"
   ]
  },
  {
   "cell_type": "code",
   "execution_count": null,
   "id": "c99fb6ae-9329-430e-9cfb-481f56030c96",
   "metadata": {},
   "outputs": [],
   "source": [
    "import numpy as np\n",
    "\n",
    "# In this file there is a possible solution. Don't open it, we need it to check\n",
    "from _dont_open import trueSVD"
   ]
  },
  {
   "cell_type": "code",
   "execution_count": null,
   "id": "7148a115-51f8-4ba5-be96-8bde48beca41",
   "metadata": {},
   "outputs": [],
   "source": [
    "# Check function\n",
    "\n",
    "def check_svd_implementation(original_tensor, tens_left, tens_right):\n",
    "    \"\"\"\n",
    "    Check if the SVD implementation is correct\n",
    "    \n",
    "    Parameters\n",
    "    ----------\n",
    "    original_tensor : np.ndarray\n",
    "        original tensor\n",
    "    tens_left : np.ndarray\n",
    "        final left tensor after the svd\n",
    "    tens_right : np.ndarray\n",
    "        final right tensor after the svd\n",
    "        \n",
    "    Returns\n",
    "    -------\n",
    "    bool\n",
    "        True if the SVD is implemented succesfully, False otherwise\n",
    "    \"\"\"\n",
    "    \n",
    "    true_left, true_right = trueSVD(original_tensor, [0, 2], [1, 3], contract_singvals='R')\n",
    "    \n",
    "    res = np.isclose(true_left, tens_left).all() and np.isclose(true_right, tens_right).all()\n",
    "    \n",
    "    return res\n",
    "\n",
    "def create_random_tensor(dim=10):\n",
    "    \"\"\"\n",
    "    Create a random tensor of shape (dim, dim, dim, dim)\n",
    "    \"\"\"\n",
    "    \n",
    "    tens = np.random.uniform(0, 1, dim**4).reshape([dim]*4)\n",
    "    \n",
    "    return tens"
   ]
  },
  {
   "cell_type": "code",
   "execution_count": null,
   "id": "64c84f91-1311-493f-b42b-d1e0f92c8970",
   "metadata": {},
   "outputs": [],
   "source": [
    "def mySVD(original_tensor):\n",
    "    \n",
    "    # Pass from a 4-legs tensor to a matrix\n",
    "    # .. code ..\n",
    "    \n",
    "    # Apply the svd\n",
    "    # .. code ..\n",
    "    \n",
    "    # Contract the singular values to the right matrix\n",
    "    # .. code ..    \n",
    "    \n",
    "    # Come back to two 3-legs tensors\n",
    "    # .. code ..\n",
    "    \n",
    "    return tens_left, tens_right\n"
   ]
  },
  {
   "cell_type": "code",
   "execution_count": null,
   "id": "692c2340-29a8-4c9a-9e18-5b9f9a13a949",
   "metadata": {},
   "outputs": [],
   "source": [
    "# perform some check\n",
    "tens = create_random_tensor()\n",
    "tens_left, tens_right = mySVD(tens)\n",
    "\n",
    "check_svd_implementation(tens, tens_left, tens_right)"
   ]
  }
 ],
 "metadata": {
  "kernelspec": {
   "display_name": "Qiskit Environment",
   "language": "python",
   "name": "qiskit"
  },
  "language_info": {
   "codemirror_mode": {
    "name": "ipython",
    "version": 3
   },
   "file_extension": ".py",
   "mimetype": "text/x-python",
   "name": "python",
   "nbconvert_exporter": "python",
   "pygments_lexer": "ipython3",
   "version": "3.9.7"
  }
 },
 "nbformat": 4,
 "nbformat_minor": 5
}
