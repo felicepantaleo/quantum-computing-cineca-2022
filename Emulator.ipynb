{
 "cells": [
  {
   "cell_type": "code",
   "execution_count": null,
   "id": "b94f574f-e41c-427f-b0db-3ff8a0f862df",
   "metadata": {},
   "outputs": [],
   "source": [
    "import numpy as np\n",
    "import random\n",
    "import math\n",
    "from itertools import product"
   ]
  },
  {
   "cell_type": "code",
   "execution_count": null,
   "id": "81ea94a6-c084-40d1-a420-6fbafa4d3278",
   "metadata": {},
   "outputs": [],
   "source": [
    "class qubit:\n",
    "    def __init__(self):\n",
    "        self.alpha = 1\n",
    "        self.beta  = 0\n",
    "    def __str__(self):\n",
    "        return \"(\"+str(self.alpha)+\",\"+str(self.beta)+\")\"\n",
    "    def measure(self):\n",
    "        p=random.random()\n",
    "        if(p < self.alpha**2):\n",
    "            ans=\"|0>\"\n",
    "        else:\n",
    "            ans=\"|1>\"\n",
    "        return ans\n",
    "    def vector(self):\n",
    "        return np.array([self.alpha, self.beta])"
   ]
  },
  {
   "cell_type": "code",
   "execution_count": null,
   "id": "42e22c3e-9567-479f-b462-84cb5363e3a4",
   "metadata": {},
   "outputs": [],
   "source": [
    "def H():\n",
    "    h=1/math.sqrt(2)\n",
    "    m=np.array([[h, h], [h, -h]])\n",
    "    return m"
   ]
  },
  {
   "cell_type": "code",
   "execution_count": null,
   "id": "69717b9b-b7e2-4fa0-88d7-c6c454030713",
   "metadata": {},
   "outputs": [],
   "source": [
    "def X():\n",
    "    m=np.array([[0, 1], [1, 0]])\n",
    "    return m"
   ]
  },
  {
   "cell_type": "code",
   "execution_count": null,
   "id": "d836ab28-7b8b-401b-b68a-d54051904113",
   "metadata": {},
   "outputs": [],
   "source": [
    "def I():\n",
    "    m=np.array([[1, 0], [0, 1]])\n",
    "    return m"
   ]
  },
  {
   "cell_type": "code",
   "execution_count": null,
   "id": "c5609a7f-221c-4f8b-a764-d5948db24989",
   "metadata": {},
   "outputs": [],
   "source": [
    "def CNOT():\n",
    "    m=np.array([[1,0,0,0],[0,1,0,0],[0,0,0,1],[0,0,1,0]])\n",
    "    return m"
   ]
  },
  {
   "cell_type": "code",
   "execution_count": null,
   "id": "e6247f31-fb61-47c1-9419-6f3bd2730a83",
   "metadata": {},
   "outputs": [],
   "source": [
    "def SWAP():\n",
    "    m=np.array([[1,0,0,0],[0,0,1,0],[0,1,0,0],[0,0,0,1]])\n",
    "    return m"
   ]
  },
  {
   "cell_type": "code",
   "execution_count": null,
   "id": "3fcf89d3-f957-419a-bcaa-22874d912c6d",
   "metadata": {},
   "outputs": [],
   "source": [
    "def Fb1(x):\n",
    "    return x"
   ]
  },
  {
   "cell_type": "code",
   "execution_count": null,
   "id": "a5fe6f2a-b7b4-4110-9780-f3c01537712a",
   "metadata": {},
   "outputs": [],
   "source": [
    "def Fb2(x):\n",
    "    return (1-x)"
   ]
  },
  {
   "cell_type": "code",
   "execution_count": null,
   "id": "5d930650-45f0-4c5f-a1ed-a46970adfb77",
   "metadata": {},
   "outputs": [],
   "source": [
    "def Fc1(x):\n",
    "    return 0"
   ]
  },
  {
   "cell_type": "code",
   "execution_count": null,
   "id": "662a228c-4034-4dd1-a1d3-acf6436b92e1",
   "metadata": {},
   "outputs": [],
   "source": [
    "def Fc2(x):\n",
    "    return 1"
   ]
  },
  {
   "cell_type": "code",
   "execution_count": null,
   "id": "972d9a56-dca7-48fb-b76b-dc3730851d66",
   "metadata": {},
   "outputs": [],
   "source": [
    "def compose(*arg):\n",
    "    M=arg[0]()\n",
    "    for i in range(1,len(arg)):\n",
    "        M=np.kron(M,arg[i]())\n",
    "    return M"
   ]
  },
  {
   "cell_type": "code",
   "execution_count": null,
   "id": "16d672c7-f8a0-41bd-9de6-e4b1e9f5c4d4",
   "metadata": {},
   "outputs": [],
   "source": [
    "class QSystem:\n",
    "    def __init__(self):\n",
    "        self.Q=[]\n",
    "    def append(self,q):\n",
    "        self.Q.append(q)\n",
    "        self.calc_state()\n",
    "    def get(self,i):\n",
    "        return self.Q[i]\n",
    "    def length(self):\n",
    "        return len(self.tp)\n",
    "    def qubits(self):\n",
    "        s=\"[\"\n",
    "        for i in range(len(self.Q)-1):\n",
    "            s+=str(self.Q[i])+\",\"\n",
    "        s+=str(self.Q[len(self.Q)-1])+\"]\"\n",
    "        return s\n",
    "    def calc_state(self):\n",
    "        if(len(self.Q)<=0):\n",
    "            print(\"System is empty\")\n",
    "        else:\n",
    "            self.tp=self.Q[0].vector()\n",
    "            if(len(self.Q)>1):\n",
    "                for i in range(1,len(self.Q)):\n",
    "                    self.tp=np.kron(self.tp,self.Q[i].vector())\n",
    "    def __str__(self):\n",
    "        return str(self.tp)\n",
    "    def apply(self,M):\n",
    "        self.tp = M.dot(self.tp)\n",
    "    def apply_U(self,f):\n",
    "        if(len(self.Q)!=2):\n",
    "            print(\"Error: Uf applies only on exactly 2 qubits\")\n",
    "        else:\n",
    "            s1=(0+f(0))%2\n",
    "            s2=(1+f(0))%2\n",
    "            s3=(0+f(1))%2\n",
    "            s4=(1+f(1))%2\n",
    "            idx=[0+s1,0+s2,2+s3,2+s4]\n",
    "            self.tp = self.tp[idx]\n",
    "    def measure(self):\n",
    "        odds=np.square(self.tp)\n",
    "        states=list(map(list, product([0,1], repeat=len(self.Q))))\n",
    "        collapsed=random.choices(states, weights=odds, k=1)[0]\n",
    "        ans=\"|\"\n",
    "        for i in range(len(collapsed)):\n",
    "            ans+=str(collapsed[i])\n",
    "        ans+=\">\"\n",
    "        print(ans)\n",
    "            "
   ]
  },
  {
   "cell_type": "code",
   "execution_count": null,
   "id": "6dfd81d5-815a-4a0e-b8bc-f6d1e76bae03",
   "metadata": {},
   "outputs": [],
   "source": [
    "S=QSystem()\n",
    "for i in range(2):\n",
    "    S.append(qubit())\n",
    "print(S)"
   ]
  },
  {
   "cell_type": "code",
   "execution_count": null,
   "id": "64a236b3-a858-4eb5-a977-08f3352669ff",
   "metadata": {},
   "outputs": [],
   "source": [
    "M=compose(I,X)\n",
    "S.apply(M)\n",
    "print(S)"
   ]
  },
  {
   "cell_type": "code",
   "execution_count": null,
   "id": "4d46a71a-98ad-4d5c-a97e-7c2ccd01f795",
   "metadata": {},
   "outputs": [],
   "source": [
    "M=compose(H,H)\n",
    "S.apply(M)\n",
    "print(S)"
   ]
  },
  {
   "cell_type": "code",
   "execution_count": null,
   "id": "081cbbc0-8b8d-452f-a6f1-fdc87a3d0f0d",
   "metadata": {},
   "outputs": [],
   "source": [
    "S.apply_U(Fc2)\n",
    "print(S)"
   ]
  },
  {
   "cell_type": "code",
   "execution_count": null,
   "id": "0ffd6b08-e0ab-4e1d-a3d9-a8256f55ee56",
   "metadata": {},
   "outputs": [],
   "source": [
    "M=compose(H,I)\n",
    "S.apply(M)\n",
    "print(S)"
   ]
  },
  {
   "cell_type": "code",
   "execution_count": null,
   "id": "36b32d29-deb7-474d-aced-300416915f6f",
   "metadata": {},
   "outputs": [],
   "source": [
    "S.measure()"
   ]
  }
 ],
 "metadata": {
  "kernelspec": {
   "display_name": "Homemade Emulation",
   "language": "python",
   "name": "homemadeemulation"
  },
  "language_info": {
   "codemirror_mode": {
    "name": "ipython",
    "version": 3
   },
   "file_extension": ".py",
   "mimetype": "text/x-python",
   "name": "python",
   "nbconvert_exporter": "python",
   "pygments_lexer": "ipython3",
   "version": "3.9.7"
  }
 },
 "nbformat": 4,
 "nbformat_minor": 5
}
